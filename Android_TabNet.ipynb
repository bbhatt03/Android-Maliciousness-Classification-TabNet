{
  "cells": [
    {
      "cell_type": "code",
      "execution_count": null,
      "metadata": {
        "colab": {
          "base_uri": "https://localhost:8080/"
        },
        "id": "Aor9CDGgx36g",
        "outputId": "60e18794-8ab7-4f35-85ec-8a1303f863f9"
      },
      "outputs": [
        {
          "name": "stdout",
          "output_type": "stream",
          "text": [
            "Looking in indexes: https://pypi.org/simple, https://us-python.pkg.dev/colab-wheels/public/simple/\n",
            "Collecting tab2img\n",
            "  Downloading tab2img-0.0.2-py3-none-any.whl (4.8 kB)\n",
            "Installing collected packages: tab2img\n",
            "Successfully installed tab2img-0.0.2\n",
            "Looking in indexes: https://pypi.org/simple, https://us-python.pkg.dev/colab-wheels/public/simple/\n",
            "Collecting sklearn\n",
            "  Downloading sklearn-0.0.post1.tar.gz (3.6 kB)\n",
            "Building wheels for collected packages: sklearn\n",
            "  Building wheel for sklearn (setup.py) ... \u001b[?25l\u001b[?25hdone\n",
            "  Created wheel for sklearn: filename=sklearn-0.0.post1-py3-none-any.whl size=2344 sha256=b79d6f82eed26d7ba3d98426343a1e40fd59ba4389ba17259060aeeb7472a17a\n",
            "  Stored in directory: /root/.cache/pip/wheels/14/25/f7/1cc0956978ae479e75140219088deb7a36f60459df242b1a72\n",
            "Successfully built sklearn\n",
            "Installing collected packages: sklearn\n",
            "Successfully installed sklearn-0.0.post1\n",
            "Looking in indexes: https://pypi.org/simple, https://us-python.pkg.dev/colab-wheels/public/simple/\n",
            "Collecting pytorch-tabnet\n",
            "  Downloading pytorch_tabnet-4.0-py3-none-any.whl (41 kB)\n",
            "\u001b[K     |████████████████████████████████| 41 kB 769 kB/s \n",
            "\u001b[?25hRequirement already satisfied: scikit_learn>0.21 in /usr/local/lib/python3.8/dist-packages (from pytorch-tabnet) (1.0.2)\n",
            "Requirement already satisfied: tqdm<5.0,>=4.36 in /usr/local/lib/python3.8/dist-packages (from pytorch-tabnet) (4.64.1)\n",
            "Requirement already satisfied: torch<2.0,>=1.2 in /usr/local/lib/python3.8/dist-packages (from pytorch-tabnet) (1.13.0+cu116)\n",
            "Requirement already satisfied: scipy>1.4 in /usr/local/lib/python3.8/dist-packages (from pytorch-tabnet) (1.7.3)\n",
            "Requirement already satisfied: numpy<2.0,>=1.17 in /usr/local/lib/python3.8/dist-packages (from pytorch-tabnet) (1.21.6)\n",
            "Requirement already satisfied: joblib>=0.11 in /usr/local/lib/python3.8/dist-packages (from scikit_learn>0.21->pytorch-tabnet) (1.2.0)\n",
            "Requirement already satisfied: threadpoolctl>=2.0.0 in /usr/local/lib/python3.8/dist-packages (from scikit_learn>0.21->pytorch-tabnet) (3.1.0)\n",
            "Requirement already satisfied: typing-extensions in /usr/local/lib/python3.8/dist-packages (from torch<2.0,>=1.2->pytorch-tabnet) (4.4.0)\n",
            "Installing collected packages: pytorch-tabnet\n",
            "Successfully installed pytorch-tabnet-4.0\n"
          ]
        }
      ],
      "source": [
        "!pip3 install tab2img\n",
        "!pip3 install sklearn\n",
        "!pip3 install pytorch-tabnet\n",
        "from tab2img.converter import Tab2Img"
      ]
    },
    {
      "cell_type": "code",
      "execution_count": null,
      "metadata": {
        "colab": {
          "base_uri": "https://localhost:8080/"
        },
        "id": "7DJ2JN4N0a6B",
        "outputId": "f79b32d1-a7a9-4b0a-890c-22e1bbda18fc"
      },
      "outputs": [
        {
          "name": "stdout",
          "output_type": "stream",
          "text": [
            "Mounted at /content/drive\n"
          ]
        }
      ],
      "source": [
        "from google.colab import drive\n",
        "drive.mount('/content/drive')"
      ]
    },
    {
      "cell_type": "code",
      "execution_count": null,
      "metadata": {
        "id": "TgDhuzzd1HFK"
      },
      "outputs": [],
      "source": [
        "import pandas as pd"
      ]
    },
    {
      "cell_type": "code",
      "execution_count": null,
      "metadata": {
        "colab": {
          "base_uri": "https://localhost:8080/",
          "height": 300
        },
        "id": "e2a_V3e6yKHa",
        "outputId": "744db4e8-f0f6-4e6a-b4c2-a479825ee2d9"
      },
      "outputs": [
        {
          "data": {
            "text/html": [
              "\n",
              "  <div id=\"df-2ac55acc-c2cf-48e4-92f1-d79d10e9fbb6\">\n",
              "    <div class=\"colab-df-container\">\n",
              "      <div>\n",
              "<style scoped>\n",
              "    .dataframe tbody tr th:only-of-type {\n",
              "        vertical-align: middle;\n",
              "    }\n",
              "\n",
              "    .dataframe tbody tr th {\n",
              "        vertical-align: top;\n",
              "    }\n",
              "\n",
              "    .dataframe thead th {\n",
              "        text-align: right;\n",
              "    }\n",
              "</style>\n",
              "<table border=\"1\" class=\"dataframe\">\n",
              "  <thead>\n",
              "    <tr style=\"text-align: right;\">\n",
              "      <th></th>\n",
              "      <th>android.permission.GET_ACCOUNTS</th>\n",
              "      <th>com.sonyericsson.home.permission.BROADCAST_BADGE</th>\n",
              "      <th>android.permission.READ_PROFILE</th>\n",
              "      <th>android.permission.MANAGE_ACCOUNTS</th>\n",
              "      <th>android.permission.WRITE_SYNC_SETTINGS</th>\n",
              "      <th>android.permission.READ_EXTERNAL_STORAGE</th>\n",
              "      <th>android.permission.RECEIVE_SMS</th>\n",
              "      <th>com.android.launcher.permission.READ_SETTINGS</th>\n",
              "      <th>android.permission.WRITE_SETTINGS</th>\n",
              "      <th>com.google.android.providers.gsf.permission.READ_GSERVICES</th>\n",
              "      <th>...</th>\n",
              "      <th>com.android.launcher.permission.UNINSTALL_SHORTCUT</th>\n",
              "      <th>com.sec.android.iap.permission.BILLING</th>\n",
              "      <th>com.htc.launcher.permission.UPDATE_SHORTCUT</th>\n",
              "      <th>com.sec.android.provider.badge.permission.WRITE</th>\n",
              "      <th>android.permission.ACCESS_NETWORK_STATE</th>\n",
              "      <th>com.google.android.finsky.permission.BIND_GET_INSTALL_REFERRER_SERVICE</th>\n",
              "      <th>com.huawei.android.launcher.permission.READ_SETTINGS</th>\n",
              "      <th>android.permission.READ_SMS</th>\n",
              "      <th>android.permission.PROCESS_INCOMING_CALLS</th>\n",
              "      <th>Result</th>\n",
              "    </tr>\n",
              "  </thead>\n",
              "  <tbody>\n",
              "    <tr>\n",
              "      <th>0</th>\n",
              "      <td>0</td>\n",
              "      <td>0</td>\n",
              "      <td>0</td>\n",
              "      <td>0</td>\n",
              "      <td>0</td>\n",
              "      <td>0</td>\n",
              "      <td>0</td>\n",
              "      <td>0</td>\n",
              "      <td>0</td>\n",
              "      <td>0</td>\n",
              "      <td>...</td>\n",
              "      <td>0</td>\n",
              "      <td>0</td>\n",
              "      <td>0</td>\n",
              "      <td>0</td>\n",
              "      <td>0</td>\n",
              "      <td>0</td>\n",
              "      <td>0</td>\n",
              "      <td>0</td>\n",
              "      <td>0</td>\n",
              "      <td>0</td>\n",
              "    </tr>\n",
              "    <tr>\n",
              "      <th>1</th>\n",
              "      <td>0</td>\n",
              "      <td>0</td>\n",
              "      <td>0</td>\n",
              "      <td>0</td>\n",
              "      <td>0</td>\n",
              "      <td>1</td>\n",
              "      <td>0</td>\n",
              "      <td>0</td>\n",
              "      <td>0</td>\n",
              "      <td>0</td>\n",
              "      <td>...</td>\n",
              "      <td>0</td>\n",
              "      <td>0</td>\n",
              "      <td>0</td>\n",
              "      <td>0</td>\n",
              "      <td>1</td>\n",
              "      <td>0</td>\n",
              "      <td>0</td>\n",
              "      <td>0</td>\n",
              "      <td>0</td>\n",
              "      <td>0</td>\n",
              "    </tr>\n",
              "    <tr>\n",
              "      <th>2</th>\n",
              "      <td>0</td>\n",
              "      <td>0</td>\n",
              "      <td>0</td>\n",
              "      <td>0</td>\n",
              "      <td>0</td>\n",
              "      <td>0</td>\n",
              "      <td>0</td>\n",
              "      <td>0</td>\n",
              "      <td>0</td>\n",
              "      <td>0</td>\n",
              "      <td>...</td>\n",
              "      <td>0</td>\n",
              "      <td>0</td>\n",
              "      <td>0</td>\n",
              "      <td>0</td>\n",
              "      <td>1</td>\n",
              "      <td>0</td>\n",
              "      <td>0</td>\n",
              "      <td>0</td>\n",
              "      <td>0</td>\n",
              "      <td>0</td>\n",
              "    </tr>\n",
              "    <tr>\n",
              "      <th>3</th>\n",
              "      <td>0</td>\n",
              "      <td>0</td>\n",
              "      <td>0</td>\n",
              "      <td>0</td>\n",
              "      <td>0</td>\n",
              "      <td>0</td>\n",
              "      <td>0</td>\n",
              "      <td>0</td>\n",
              "      <td>0</td>\n",
              "      <td>0</td>\n",
              "      <td>...</td>\n",
              "      <td>0</td>\n",
              "      <td>0</td>\n",
              "      <td>0</td>\n",
              "      <td>0</td>\n",
              "      <td>1</td>\n",
              "      <td>0</td>\n",
              "      <td>0</td>\n",
              "      <td>0</td>\n",
              "      <td>0</td>\n",
              "      <td>0</td>\n",
              "    </tr>\n",
              "    <tr>\n",
              "      <th>4</th>\n",
              "      <td>0</td>\n",
              "      <td>0</td>\n",
              "      <td>0</td>\n",
              "      <td>0</td>\n",
              "      <td>0</td>\n",
              "      <td>0</td>\n",
              "      <td>0</td>\n",
              "      <td>0</td>\n",
              "      <td>0</td>\n",
              "      <td>0</td>\n",
              "      <td>...</td>\n",
              "      <td>0</td>\n",
              "      <td>0</td>\n",
              "      <td>0</td>\n",
              "      <td>0</td>\n",
              "      <td>1</td>\n",
              "      <td>1</td>\n",
              "      <td>0</td>\n",
              "      <td>0</td>\n",
              "      <td>0</td>\n",
              "      <td>0</td>\n",
              "    </tr>\n",
              "  </tbody>\n",
              "</table>\n",
              "<p>5 rows × 87 columns</p>\n",
              "</div>\n",
              "      <button class=\"colab-df-convert\" onclick=\"convertToInteractive('df-2ac55acc-c2cf-48e4-92f1-d79d10e9fbb6')\"\n",
              "              title=\"Convert this dataframe to an interactive table.\"\n",
              "              style=\"display:none;\">\n",
              "        \n",
              "  <svg xmlns=\"http://www.w3.org/2000/svg\" height=\"24px\"viewBox=\"0 0 24 24\"\n",
              "       width=\"24px\">\n",
              "    <path d=\"M0 0h24v24H0V0z\" fill=\"none\"/>\n",
              "    <path d=\"M18.56 5.44l.94 2.06.94-2.06 2.06-.94-2.06-.94-.94-2.06-.94 2.06-2.06.94zm-11 1L8.5 8.5l.94-2.06 2.06-.94-2.06-.94L8.5 2.5l-.94 2.06-2.06.94zm10 10l.94 2.06.94-2.06 2.06-.94-2.06-.94-.94-2.06-.94 2.06-2.06.94z\"/><path d=\"M17.41 7.96l-1.37-1.37c-.4-.4-.92-.59-1.43-.59-.52 0-1.04.2-1.43.59L10.3 9.45l-7.72 7.72c-.78.78-.78 2.05 0 2.83L4 21.41c.39.39.9.59 1.41.59.51 0 1.02-.2 1.41-.59l7.78-7.78 2.81-2.81c.8-.78.8-2.07 0-2.86zM5.41 20L4 18.59l7.72-7.72 1.47 1.35L5.41 20z\"/>\n",
              "  </svg>\n",
              "      </button>\n",
              "      \n",
              "  <style>\n",
              "    .colab-df-container {\n",
              "      display:flex;\n",
              "      flex-wrap:wrap;\n",
              "      gap: 12px;\n",
              "    }\n",
              "\n",
              "    .colab-df-convert {\n",
              "      background-color: #E8F0FE;\n",
              "      border: none;\n",
              "      border-radius: 50%;\n",
              "      cursor: pointer;\n",
              "      display: none;\n",
              "      fill: #1967D2;\n",
              "      height: 32px;\n",
              "      padding: 0 0 0 0;\n",
              "      width: 32px;\n",
              "    }\n",
              "\n",
              "    .colab-df-convert:hover {\n",
              "      background-color: #E2EBFA;\n",
              "      box-shadow: 0px 1px 2px rgba(60, 64, 67, 0.3), 0px 1px 3px 1px rgba(60, 64, 67, 0.15);\n",
              "      fill: #174EA6;\n",
              "    }\n",
              "\n",
              "    [theme=dark] .colab-df-convert {\n",
              "      background-color: #3B4455;\n",
              "      fill: #D2E3FC;\n",
              "    }\n",
              "\n",
              "    [theme=dark] .colab-df-convert:hover {\n",
              "      background-color: #434B5C;\n",
              "      box-shadow: 0px 1px 3px 1px rgba(0, 0, 0, 0.15);\n",
              "      filter: drop-shadow(0px 1px 2px rgba(0, 0, 0, 0.3));\n",
              "      fill: #FFFFFF;\n",
              "    }\n",
              "  </style>\n",
              "\n",
              "      <script>\n",
              "        const buttonEl =\n",
              "          document.querySelector('#df-2ac55acc-c2cf-48e4-92f1-d79d10e9fbb6 button.colab-df-convert');\n",
              "        buttonEl.style.display =\n",
              "          google.colab.kernel.accessAllowed ? 'block' : 'none';\n",
              "\n",
              "        async function convertToInteractive(key) {\n",
              "          const element = document.querySelector('#df-2ac55acc-c2cf-48e4-92f1-d79d10e9fbb6');\n",
              "          const dataTable =\n",
              "            await google.colab.kernel.invokeFunction('convertToInteractive',\n",
              "                                                     [key], {});\n",
              "          if (!dataTable) return;\n",
              "\n",
              "          const docLinkHtml = 'Like what you see? Visit the ' +\n",
              "            '<a target=\"_blank\" href=https://colab.research.google.com/notebooks/data_table.ipynb>data table notebook</a>'\n",
              "            + ' to learn more about interactive tables.';\n",
              "          element.innerHTML = '';\n",
              "          dataTable['output_type'] = 'display_data';\n",
              "          await google.colab.output.renderOutput(dataTable, element);\n",
              "          const docLink = document.createElement('div');\n",
              "          docLink.innerHTML = docLinkHtml;\n",
              "          element.appendChild(docLink);\n",
              "        }\n",
              "      </script>\n",
              "    </div>\n",
              "  </div>\n",
              "  "
            ],
            "text/plain": [
              "   android.permission.GET_ACCOUNTS  \\\n",
              "0                                0   \n",
              "1                                0   \n",
              "2                                0   \n",
              "3                                0   \n",
              "4                                0   \n",
              "\n",
              "   com.sonyericsson.home.permission.BROADCAST_BADGE  \\\n",
              "0                                                 0   \n",
              "1                                                 0   \n",
              "2                                                 0   \n",
              "3                                                 0   \n",
              "4                                                 0   \n",
              "\n",
              "   android.permission.READ_PROFILE  android.permission.MANAGE_ACCOUNTS  \\\n",
              "0                                0                                   0   \n",
              "1                                0                                   0   \n",
              "2                                0                                   0   \n",
              "3                                0                                   0   \n",
              "4                                0                                   0   \n",
              "\n",
              "   android.permission.WRITE_SYNC_SETTINGS  \\\n",
              "0                                       0   \n",
              "1                                       0   \n",
              "2                                       0   \n",
              "3                                       0   \n",
              "4                                       0   \n",
              "\n",
              "   android.permission.READ_EXTERNAL_STORAGE  android.permission.RECEIVE_SMS  \\\n",
              "0                                         0                               0   \n",
              "1                                         1                               0   \n",
              "2                                         0                               0   \n",
              "3                                         0                               0   \n",
              "4                                         0                               0   \n",
              "\n",
              "   com.android.launcher.permission.READ_SETTINGS  \\\n",
              "0                                              0   \n",
              "1                                              0   \n",
              "2                                              0   \n",
              "3                                              0   \n",
              "4                                              0   \n",
              "\n",
              "   android.permission.WRITE_SETTINGS  \\\n",
              "0                                  0   \n",
              "1                                  0   \n",
              "2                                  0   \n",
              "3                                  0   \n",
              "4                                  0   \n",
              "\n",
              "   com.google.android.providers.gsf.permission.READ_GSERVICES  ...  \\\n",
              "0                                                  0           ...   \n",
              "1                                                  0           ...   \n",
              "2                                                  0           ...   \n",
              "3                                                  0           ...   \n",
              "4                                                  0           ...   \n",
              "\n",
              "   com.android.launcher.permission.UNINSTALL_SHORTCUT  \\\n",
              "0                                                  0    \n",
              "1                                                  0    \n",
              "2                                                  0    \n",
              "3                                                  0    \n",
              "4                                                  0    \n",
              "\n",
              "   com.sec.android.iap.permission.BILLING  \\\n",
              "0                                       0   \n",
              "1                                       0   \n",
              "2                                       0   \n",
              "3                                       0   \n",
              "4                                       0   \n",
              "\n",
              "   com.htc.launcher.permission.UPDATE_SHORTCUT  \\\n",
              "0                                            0   \n",
              "1                                            0   \n",
              "2                                            0   \n",
              "3                                            0   \n",
              "4                                            0   \n",
              "\n",
              "   com.sec.android.provider.badge.permission.WRITE  \\\n",
              "0                                                0   \n",
              "1                                                0   \n",
              "2                                                0   \n",
              "3                                                0   \n",
              "4                                                0   \n",
              "\n",
              "   android.permission.ACCESS_NETWORK_STATE  \\\n",
              "0                                        0   \n",
              "1                                        1   \n",
              "2                                        1   \n",
              "3                                        1   \n",
              "4                                        1   \n",
              "\n",
              "   com.google.android.finsky.permission.BIND_GET_INSTALL_REFERRER_SERVICE  \\\n",
              "0                                                  0                        \n",
              "1                                                  0                        \n",
              "2                                                  0                        \n",
              "3                                                  0                        \n",
              "4                                                  1                        \n",
              "\n",
              "   com.huawei.android.launcher.permission.READ_SETTINGS  \\\n",
              "0                                                  0      \n",
              "1                                                  0      \n",
              "2                                                  0      \n",
              "3                                                  0      \n",
              "4                                                  0      \n",
              "\n",
              "   android.permission.READ_SMS  android.permission.PROCESS_INCOMING_CALLS  \\\n",
              "0                            0                                          0   \n",
              "1                            0                                          0   \n",
              "2                            0                                          0   \n",
              "3                            0                                          0   \n",
              "4                            0                                          0   \n",
              "\n",
              "   Result  \n",
              "0       0  \n",
              "1       0  \n",
              "2       0  \n",
              "3       0  \n",
              "4       0  \n",
              "\n",
              "[5 rows x 87 columns]"
            ]
          },
          "execution_count": 5,
          "metadata": {},
          "output_type": "execute_result"
        }
      ],
      "source": [
        "dataset = pd.read_csv('/content/drive/MyDrive/AOS_Senior_Research/Android_APK_Data.csv')\n",
        "dataset.head()"
      ]
    },
    {
      "cell_type": "code",
      "execution_count": null,
      "metadata": {
        "id": "AypsYXjGy9XO"
      },
      "outputs": [],
      "source": [
        "X = dataset.iloc[:, :-1].values\n",
        "y = dataset.iloc[:, -1].values\n"
      ]
    },
    {
      "cell_type": "code",
      "execution_count": null,
      "metadata": {
        "colab": {
          "base_uri": "https://localhost:8080/"
        },
        "id": "Rbxj7F4J2v9s",
        "outputId": "20e3b997-4b4e-4d51-be6b-7e0a03fa5e1d"
      },
      "outputs": [
        {
          "name": "stdout",
          "output_type": "stream",
          "text": [
            "[[0 0 0 ... 0 0 0]\n",
            " [0 0 0 ... 0 0 0]\n",
            " [0 0 0 ... 0 0 0]\n",
            " ...\n",
            " [0 0 0 ... 0 0 0]\n",
            " [0 0 0 ... 0 0 0]\n",
            " [0 0 0 ... 0 0 0]]\n",
            "(29332, 86)\n"
          ]
        }
      ],
      "source": [
        "print(X)\n",
        "print(X.shape)"
      ]
    },
    {
      "cell_type": "code",
      "execution_count": null,
      "metadata": {
        "colab": {
          "base_uri": "https://localhost:8080/"
        },
        "id": "lr2lFOET2zKz",
        "outputId": "555371a8-ed20-4ee8-ca49-14f507e54deb"
      },
      "outputs": [
        {
          "name": "stdout",
          "output_type": "stream",
          "text": [
            "[0 0 0 ... 1 1 1]\n",
            "(29332,)\n"
          ]
        }
      ],
      "source": [
        "print(y)\n",
        "print(y.shape)"
      ]
    },
    {
      "cell_type": "code",
      "execution_count": null,
      "metadata": {
        "id": "-yHufzkjzqCW"
      },
      "outputs": [],
      "source": [
        "model = Tab2Img()\n",
        "images = model.fit_transform(X, y)"
      ]
    },
    {
      "cell_type": "code",
      "execution_count": null,
      "metadata": {
        "colab": {
          "base_uri": "https://localhost:8080/"
        },
        "id": "k0jvXL9xzxuF",
        "outputId": "04cac1b7-0acc-4b59-d963-9eb56852a300"
      },
      "outputs": [
        {
          "name": "stdout",
          "output_type": "stream",
          "text": [
            "29332\n"
          ]
        }
      ],
      "source": [
        "print(len(images))"
      ]
    },
    {
      "cell_type": "code",
      "execution_count": null,
      "metadata": {
        "colab": {
          "base_uri": "https://localhost:8080/"
        },
        "id": "akrZ5DB540kC",
        "outputId": "bf8277a1-f16b-46b6-a26c-6137b25da2d4"
      },
      "outputs": [
        {
          "name": "stdout",
          "output_type": "stream",
          "text": [
            "(20532, 86)\n",
            "(20532,)\n"
          ]
        }
      ],
      "source": [
        "from sklearn.model_selection import train_test_split\n",
        "X_train, X_test, y_train, y_test = train_test_split(X, y, test_size = 0.3, random_state = 1)\n",
        "\n",
        "print(X_train.shape)\n",
        "print(y_train.shape)\n"
      ]
    },
    {
      "cell_type": "code",
      "execution_count": null,
      "metadata": {
        "colab": {
          "base_uri": "https://localhost:8080/"
        },
        "id": "EjCMP84C5ORF",
        "outputId": "8bfa979f-7c98-4e12-af28-7485d9ffa739"
      },
      "outputs": [
        {
          "name": "stderr",
          "output_type": "stream",
          "text": [
            "/usr/local/lib/python3.8/dist-packages/pytorch_tabnet/abstract_model.py:75: UserWarning: Device used : cuda\n",
            "  warnings.warn(f\"Device used : {self.device}\")\n"
          ]
        },
        {
          "name": "stdout",
          "output_type": "stream",
          "text": [
            "epoch 0  | loss: 0.68565 | val_0_auc: 0.81328 |  0:00:06s\n",
            "epoch 1  | loss: 0.44604 | val_0_auc: 0.88092 |  0:00:07s\n",
            "epoch 2  | loss: 0.27885 | val_0_auc: 0.95429 |  0:00:09s\n",
            "epoch 3  | loss: 0.21164 | val_0_auc: 0.96567 |  0:00:11s\n",
            "epoch 4  | loss: 0.19282 | val_0_auc: 0.96517 |  0:00:13s\n",
            "epoch 5  | loss: 0.18025 | val_0_auc: 0.9692  |  0:00:14s\n",
            "epoch 6  | loss: 0.16759 | val_0_auc: 0.97506 |  0:00:15s\n",
            "epoch 7  | loss: 0.15853 | val_0_auc: 0.97708 |  0:00:16s\n",
            "epoch 8  | loss: 0.15028 | val_0_auc: 0.97843 |  0:00:17s\n",
            "epoch 9  | loss: 0.14712 | val_0_auc: 0.97961 |  0:00:18s\n",
            "epoch 10 | loss: 0.14396 | val_0_auc: 0.98098 |  0:00:19s\n",
            "epoch 11 | loss: 0.14094 | val_0_auc: 0.98209 |  0:00:20s\n",
            "epoch 12 | loss: 0.13721 | val_0_auc: 0.98236 |  0:00:21s\n",
            "epoch 13 | loss: 0.13808 | val_0_auc: 0.98376 |  0:00:22s\n",
            "epoch 14 | loss: 0.13467 | val_0_auc: 0.98474 |  0:00:22s\n",
            "epoch 15 | loss: 0.13184 | val_0_auc: 0.98565 |  0:00:23s\n",
            "epoch 16 | loss: 0.12895 | val_0_auc: 0.98518 |  0:00:24s\n",
            "epoch 17 | loss: 0.12516 | val_0_auc: 0.98521 |  0:00:25s\n",
            "epoch 18 | loss: 0.12844 | val_0_auc: 0.98624 |  0:00:26s\n",
            "epoch 19 | loss: 0.12589 | val_0_auc: 0.98568 |  0:00:27s\n",
            "epoch 20 | loss: 0.12631 | val_0_auc: 0.98538 |  0:00:28s\n",
            "epoch 21 | loss: 0.12714 | val_0_auc: 0.98579 |  0:00:29s\n",
            "epoch 22 | loss: 0.13168 | val_0_auc: 0.98546 |  0:00:30s\n",
            "epoch 23 | loss: 0.12673 | val_0_auc: 0.98663 |  0:00:31s\n",
            "epoch 24 | loss: 0.12263 | val_0_auc: 0.98729 |  0:00:32s\n",
            "epoch 25 | loss: 0.11813 | val_0_auc: 0.98658 |  0:00:32s\n",
            "epoch 26 | loss: 0.11866 | val_0_auc: 0.98736 |  0:00:33s\n",
            "epoch 27 | loss: 0.11319 | val_0_auc: 0.98819 |  0:00:34s\n",
            "epoch 28 | loss: 0.11674 | val_0_auc: 0.98789 |  0:00:35s\n",
            "epoch 29 | loss: 0.11351 | val_0_auc: 0.98739 |  0:00:36s\n",
            "epoch 30 | loss: 0.11192 | val_0_auc: 0.98802 |  0:00:37s\n",
            "epoch 31 | loss: 0.10987 | val_0_auc: 0.98795 |  0:00:38s\n",
            "epoch 32 | loss: 0.10719 | val_0_auc: 0.98792 |  0:00:39s\n",
            "epoch 33 | loss: 0.10783 | val_0_auc: 0.98773 |  0:00:40s\n",
            "epoch 34 | loss: 0.10983 | val_0_auc: 0.98775 |  0:00:41s\n",
            "epoch 35 | loss: 0.10703 | val_0_auc: 0.9883  |  0:00:42s\n",
            "epoch 36 | loss: 0.10566 | val_0_auc: 0.98818 |  0:00:43s\n",
            "epoch 37 | loss: 0.10228 | val_0_auc: 0.9873  |  0:00:43s\n",
            "epoch 38 | loss: 0.10473 | val_0_auc: 0.98862 |  0:00:44s\n",
            "epoch 39 | loss: 0.10532 | val_0_auc: 0.98849 |  0:00:45s\n",
            "epoch 40 | loss: 0.1035  | val_0_auc: 0.98905 |  0:00:46s\n",
            "epoch 41 | loss: 0.10133 | val_0_auc: 0.98892 |  0:00:47s\n",
            "epoch 42 | loss: 0.1028  | val_0_auc: 0.98837 |  0:00:48s\n",
            "epoch 43 | loss: 0.10126 | val_0_auc: 0.98837 |  0:00:49s\n",
            "epoch 44 | loss: 0.09912 | val_0_auc: 0.98808 |  0:00:50s\n",
            "epoch 45 | loss: 0.09946 | val_0_auc: 0.989   |  0:00:51s\n",
            "epoch 46 | loss: 0.09868 | val_0_auc: 0.98859 |  0:00:52s\n",
            "epoch 47 | loss: 0.0956  | val_0_auc: 0.98912 |  0:00:52s\n",
            "epoch 48 | loss: 0.09433 | val_0_auc: 0.98853 |  0:00:53s\n",
            "epoch 49 | loss: 0.09375 | val_0_auc: 0.98879 |  0:00:54s\n",
            "epoch 50 | loss: 0.09406 | val_0_auc: 0.98928 |  0:00:55s\n",
            "epoch 51 | loss: 0.0944  | val_0_auc: 0.98943 |  0:00:56s\n",
            "epoch 52 | loss: 0.09266 | val_0_auc: 0.98951 |  0:00:57s\n",
            "epoch 53 | loss: 0.0926  | val_0_auc: 0.98912 |  0:00:58s\n",
            "epoch 54 | loss: 0.09698 | val_0_auc: 0.98862 |  0:00:59s\n",
            "epoch 55 | loss: 0.09759 | val_0_auc: 0.98945 |  0:01:00s\n",
            "epoch 56 | loss: 0.0918  | val_0_auc: 0.98946 |  0:01:01s\n",
            "epoch 57 | loss: 0.09177 | val_0_auc: 0.98942 |  0:01:02s\n",
            "epoch 58 | loss: 0.09044 | val_0_auc: 0.9893  |  0:01:02s\n",
            "epoch 59 | loss: 0.08973 | val_0_auc: 0.98924 |  0:01:03s\n",
            "epoch 60 | loss: 0.09084 | val_0_auc: 0.98927 |  0:01:04s\n",
            "epoch 61 | loss: 0.08942 | val_0_auc: 0.98967 |  0:01:05s\n",
            "epoch 62 | loss: 0.0894  | val_0_auc: 0.98919 |  0:01:06s\n",
            "epoch 63 | loss: 0.09295 | val_0_auc: 0.98949 |  0:01:07s\n",
            "epoch 64 | loss: 0.08946 | val_0_auc: 0.98907 |  0:01:08s\n",
            "epoch 65 | loss: 0.08482 | val_0_auc: 0.98904 |  0:01:09s\n",
            "epoch 66 | loss: 0.084   | val_0_auc: 0.98952 |  0:01:10s\n",
            "epoch 67 | loss: 0.08202 | val_0_auc: 0.98925 |  0:01:11s\n",
            "epoch 68 | loss: 0.08209 | val_0_auc: 0.98834 |  0:01:11s\n",
            "epoch 69 | loss: 0.08397 | val_0_auc: 0.98798 |  0:01:12s\n",
            "epoch 70 | loss: 0.08927 | val_0_auc: 0.98946 |  0:01:13s\n",
            "epoch 71 | loss: 0.0868  | val_0_auc: 0.98969 |  0:01:14s\n",
            "epoch 72 | loss: 0.08473 | val_0_auc: 0.98971 |  0:01:15s\n",
            "epoch 73 | loss: 0.08763 | val_0_auc: 0.98954 |  0:01:16s\n",
            "epoch 74 | loss: 0.09123 | val_0_auc: 0.98976 |  0:01:17s\n",
            "epoch 75 | loss: 0.08959 | val_0_auc: 0.98992 |  0:01:18s\n",
            "epoch 76 | loss: 0.08374 | val_0_auc: 0.99012 |  0:01:19s\n",
            "epoch 77 | loss: 0.08177 | val_0_auc: 0.98992 |  0:01:19s\n",
            "epoch 78 | loss: 0.0815  | val_0_auc: 0.98975 |  0:01:20s\n",
            "epoch 79 | loss: 0.08457 | val_0_auc: 0.99016 |  0:01:21s\n",
            "epoch 80 | loss: 0.08448 | val_0_auc: 0.99044 |  0:01:22s\n",
            "epoch 81 | loss: 0.08227 | val_0_auc: 0.99019 |  0:01:23s\n",
            "epoch 82 | loss: 0.0804  | val_0_auc: 0.99019 |  0:01:24s\n",
            "epoch 83 | loss: 0.08038 | val_0_auc: 0.99017 |  0:01:25s\n",
            "epoch 84 | loss: 0.07938 | val_0_auc: 0.99062 |  0:01:26s\n",
            "epoch 85 | loss: 0.07906 | val_0_auc: 0.99045 |  0:01:27s\n",
            "epoch 86 | loss: 0.08283 | val_0_auc: 0.98992 |  0:01:27s\n",
            "epoch 87 | loss: 0.08161 | val_0_auc: 0.99039 |  0:01:28s\n",
            "epoch 88 | loss: 0.07934 | val_0_auc: 0.98996 |  0:01:29s\n",
            "epoch 89 | loss: 0.07879 | val_0_auc: 0.99045 |  0:01:30s\n",
            "epoch 90 | loss: 0.07756 | val_0_auc: 0.99031 |  0:01:31s\n",
            "epoch 91 | loss: 0.07732 | val_0_auc: 0.9904  |  0:01:32s\n",
            "epoch 92 | loss: 0.07567 | val_0_auc: 0.99056 |  0:01:33s\n",
            "epoch 93 | loss: 0.07345 | val_0_auc: 0.99022 |  0:01:34s\n",
            "epoch 94 | loss: 0.07519 | val_0_auc: 0.99018 |  0:01:35s\n",
            "\n",
            "Early stopping occurred at epoch 94 with best_epoch = 84 and best_val_0_auc = 0.99062\n"
          ]
        },
        {
          "name": "stderr",
          "output_type": "stream",
          "text": [
            "/usr/local/lib/python3.8/dist-packages/pytorch_tabnet/callbacks.py:172: UserWarning: Best weights from best epoch are automatically used!\n",
            "  warnings.warn(wrn_msg)\n"
          ]
        }
      ],
      "source": [
        "from pytorch_tabnet.tab_model import TabNetClassifier\n",
        "\n",
        "clf = TabNetClassifier()\n",
        "clf.fit(\n",
        "  X_train, y_train,\n",
        "  eval_set=[(X_test, y_test)]\n",
        ")\n",
        "preds = clf.predict(X_test)"
      ]
    },
    {
      "cell_type": "code",
      "execution_count": null,
      "metadata": {
        "colab": {
          "base_uri": "https://localhost:8080/"
        },
        "id": "QFRlkbrEeMGO",
        "outputId": "7c9dc0b3-46e0-4002-ead3-c87d8dfe44db"
      },
      "outputs": [
        {
          "name": "stdout",
          "output_type": "stream",
          "text": [
            "8800 [1 0 0 ... 1 0 1]\n",
            "8800 [1 0 0 ... 1 0 1]\n"
          ]
        }
      ],
      "source": [
        "print(len(preds), preds)\n",
        "print(len(y_test), y_test)"
      ]
    },
    {
      "cell_type": "code",
      "execution_count": null,
      "metadata": {
        "id": "9-ieZmNBOetv"
      },
      "outputs": [],
      "source": [
        "import matplotlib.pyplot as plt\n",
        "import numpy as np\n",
        "import sklearn\n",
        "from sklearn.metrics import confusion_matrix"
      ]
    },
    {
      "cell_type": "code",
      "execution_count": null,
      "metadata": {
        "colab": {
          "base_uri": "https://localhost:8080/"
        },
        "id": "MVgxcN3lOk1_",
        "outputId": "3d7c3b50-6c61-4d20-8a03-1e9e623d96a1"
      },
      "outputs": [
        {
          "data": {
            "text/plain": [
              "Text(0, 0.5, 'Loss')"
            ]
          },
          "execution_count": 15,
          "metadata": {},
          "output_type": "execute_result"
        },
        {
          "data": {
            "image/png": "[encoded data removed]",
            "text/plain": [
              "<Figure size 432x288 with 1 Axes>"
            ]
          },
          "metadata": {
            "needs_background": "light"
          },
          "output_type": "display_data"
        }
      ],
      "source": [
        "plt.plot(clf.history['loss'])\n",
        "plt.xlabel('Epoch')\n",
        "plt.ylabel('Loss')"
      ]
    },
    {
      "cell_type": "code",
      "execution_count": null,
      "metadata": {
        "colab": {
          "base_uri": "https://localhost:8080/"
        },
        "id": "dRnI7sCVOn3b",
        "outputId": "28ecf090-82f1-41ca-ba05-f449806e8845"
      },
      "outputs": [
        {
          "data": {
            "text/plain": [
              "Text(0, 0.5, 'val_0_auc')"
            ]
          },
          "execution_count": 16,
          "metadata": {},
          "output_type": "execute_result"
        },
        {
          "data": {
            "image/png": "[encoded data removed]",
            "text/plain": [
              "<Figure size 432x288 with 1 Axes>"
            ]
          },
          "metadata": {
            "needs_background": "light"
          },
          "output_type": "display_data"
        }
      ],
      "source": [
        "plt.plot(clf.history['val_0_auc'])\n",
        "plt.xlabel('Epoch')\n",
        "plt.ylabel('val_0_auc')"
      ]
    },
    {
      "cell_type": "code",
      "execution_count": null,
      "metadata": {
        "colab": {
          "base_uri": "https://localhost:8080/"
        },
        "id": "xoiiOAfdPB7E",
        "outputId": "5a07e483-793e-42a6-d6a9-af18db94fb6b"
      },
      "outputs": [
        {
          "data": {
            "text/plain": [
              "Text(0, 0.5, 'Learning Rate')"
            ]
          },
          "execution_count": 17,
          "metadata": {},
          "output_type": "execute_result"
        },
        {
          "data": {
            "image/png": "[encoded data removed]",
            "text/plain": [
              "<Figure size 432x288 with 1 Axes>"
            ]
          },
          "metadata": {
            "needs_background": "light"
          },
          "output_type": "display_data"
        }
      ],
      "source": [
        "plt.plot(clf.history['lr'])\n",
        "plt.xlabel('Epoch')\n",
        "plt.ylabel('Learning Rate')"
      ]
    },
    {
      "cell_type": "code",
      "execution_count": null,
      "metadata": {
        "colab": {
          "base_uri": "https://localhost:8080/",
          "height": 368
        },
        "id": "KC9-cEPLkyih",
        "outputId": "85ea5ddf-772d-40ca-c4e4-b2e3667190e7"
      },
      "outputs": [
        {
          "data": {
            "image/png": "[encoded data removed]",
            "text/plain": [
              "<Figure size 432x288 with 2 Axes>"
            ]
          },
          "metadata": {
            "needs_background": "light"
          },
          "output_type": "display_data"
        },
        {
          "name": "stdout",
          "output_type": "stream",
          "text": [
            "Accuracy: 0.9655681818181818\n",
            "Precision: 0.9705404778473672\n",
            "Sensitivity Recall: 0.9596330275229358\n",
            "Specificity: 0.9713963963963964\n",
            "F1 Score: 0.9650559335716757\n"
          ]
        }
      ],
      "source": [
        "import sklearn\n",
        "from sklearn import metrics\n",
        "from sklearn.metrics import confusion_matrix\n",
        "\n",
        "confusion_matrix = confusion_matrix(y_test, preds)\n",
        "cm_display = sklearn.metrics.ConfusionMatrixDisplay(confusion_matrix = confusion_matrix, display_labels = [False, True])\n",
        "cm_display.plot()\n",
        "plt.show()\n",
        "\n",
        "Accuracy = metrics.accuracy_score(y_test, preds)\n",
        "print('Accuracy:', Accuracy)\n",
        "\n",
        "Precision = metrics.precision_score(y_test, preds)\n",
        "print('Precision:', Precision)\n",
        "\n",
        "Sensitivity_recall = metrics.recall_score(y_test, preds)\n",
        "print('Sensitivity Recall:', Sensitivity_recall)\n",
        "\n",
        "Specificity = metrics.recall_score(y_test, preds, pos_label=0)\n",
        "print('Specificity:', Specificity)\n",
        "\n",
        "F1_score = metrics.f1_score(y_test, preds)\n",
        "print('F1 Score:', F1_score)\n",
        "\n"
      ]
    }
  ],
  "metadata": {
    "accelerator": "GPU",
    "colab": {
      "provenance": []
    },
    "gpuClass": "standard",
    "kernelspec": {
      "display_name": "Python 3",
      "name": "python3"
    },
    "language_info": {
      "name": "python"
    }
  },
  "nbformat": 4,
  "nbformat_minor": 0
}
